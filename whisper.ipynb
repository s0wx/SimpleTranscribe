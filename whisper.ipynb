{
  "nbformat": 4,
  "nbformat_minor": 0,
  "metadata": {
    "colab": {
      "provenance": [],
      "collapsed_sections": []
    },
    "kernelspec": {
      "name": "python3",
      "display_name": "Python 3"
    },
    "language_info": {
      "name": "python"
    }
  },
  "cells": [
    {
      "cell_type": "markdown",
      "source": [
        "# Audio Transcription (via Whisper by OpenAI)\n",
        "\n",
        "For best performance use this notebook on Google Colab (https://colab.research.google.com) and select <br>`Runtime` > `Change runtime type` > `Hardware accelerator: GPU`\n"
      ],
      "metadata": {
        "id": "6wcWkOjlTa_8"
      }
    },
    {
      "cell_type": "markdown",
      "source": [
        "# Setup"
      ],
      "metadata": {
        "id": "zI-sJ_sbSQIR"
      }
    },
    {
      "cell_type": "markdown",
      "source": [
        "### Install dependencies prior installing whisper package"
      ],
      "metadata": {
        "id": "4vPszhPiR2V0"
      }
    },
    {
      "cell_type": "code",
      "execution_count": null,
      "metadata": {
        "id": "rh2E7ggkKx5K"
      },
      "outputs": [],
      "source": [
        "!pip3 install setuptools-rust"
      ]
    },
    {
      "cell_type": "markdown",
      "source": [
        "### Install Whisper"
      ],
      "metadata": {
        "id": "LVy5wDSMSEA4"
      }
    },
    {
      "cell_type": "code",
      "source": [
        "!pip3 install git+https://github.com/openai/whisper.git"
      ],
      "metadata": {
        "id": "p7zhxcl5LBwg"
      },
      "execution_count": null,
      "outputs": []
    },
    {
      "cell_type": "markdown",
      "source": [
        "### Prepare and load model"
      ],
      "metadata": {
        "id": "ksXlsFZASbNY"
      }
    },
    {
      "cell_type": "code",
      "source": [
        "import whisper"
      ],
      "metadata": {
        "id": "3KIWOHyFLfdp"
      },
      "execution_count": null,
      "outputs": []
    },
    {
      "cell_type": "code",
      "source": [
        "model = whisper.load_model(\"large\")"
      ],
      "metadata": {
        "id": "NTaeTvkdL-Vt"
      },
      "execution_count": null,
      "outputs": []
    },
    {
      "cell_type": "markdown",
      "source": [
        "# Select audio file\n",
        "\n",
        "Drag and drop the audio file of your choice in the `Files` sidebar, right-click your file and select `Copy path`."
      ],
      "metadata": {
        "id": "pfVw1FEiSnDu"
      }
    },
    {
      "cell_type": "code",
      "source": [
        "audio = whisper.load_audio(\"/content/audio.mp3\")"
      ],
      "metadata": {
        "id": "qefsHRV-MDCL"
      },
      "execution_count": null,
      "outputs": []
    },
    {
      "cell_type": "markdown",
      "source": [
        "# Run Transcribe"
      ],
      "metadata": {
        "id": "lL8iYZ7SSxEw"
      }
    },
    {
      "cell_type": "code",
      "source": [
        "result = model.transcribe(audio)"
      ],
      "metadata": {
        "id": "TDd_sSF2MYWv"
      },
      "execution_count": null,
      "outputs": []
    },
    {
      "cell_type": "code",
      "source": [
        "res = result[\"text\"].split(\". \")\n",
        "res = \".\\n\\n\".join(res)"
      ],
      "metadata": {
        "id": "8q6kXx8IOfwm"
      },
      "execution_count": null,
      "outputs": []
    },
    {
      "cell_type": "code",
      "source": [
        "print(res)"
      ],
      "metadata": {
        "id": "TkrIZDg5OnzT"
      },
      "execution_count": null,
      "outputs": []
    },
    {
      "cell_type": "code",
      "source": [],
      "metadata": {
        "id": "u6SqIlB2OpEc"
      },
      "execution_count": null,
      "outputs": []
    }
  ]
}